{
 "cells": [
  {
   "metadata": {},
   "cell_type": "code",
   "outputs": [],
   "execution_count": null,
   "source": [
    "from langchain_community.document_loaders import TextLoader\n",
    "from  langchain_text_splitters import CharacterTextSplitter\n"
   ],
   "id": "e8a2a4cdc0a7cb26"
  },
  {
   "metadata": {},
   "cell_type": "code",
   "outputs": [],
   "execution_count": null,
   "source": [
    "from dotenv import load_dotenv\n",
    "\n",
    "load_dotenv(dotenv_path='.env')"
   ],
   "id": "c1529a5b5014f3cb"
  },
  {
   "metadata": {},
   "cell_type": "code",
   "outputs": [],
   "execution_count": null,
   "source": [
    "import pandas as pd\n",
    "\n",
    "books = pd.read_csv('books_cleaned.csv')"
   ],
   "id": "d9f21d88d86072"
  },
  {
   "metadata": {},
   "cell_type": "code",
   "outputs": [],
   "execution_count": null,
   "source": "books",
   "id": "11b34f6063133544"
  },
  {
   "metadata": {},
   "cell_type": "code",
   "outputs": [],
   "execution_count": null,
   "source": "books[\"tagged_description\"].head()",
   "id": "b59414b635f0d51"
  },
  {
   "metadata": {},
   "cell_type": "code",
   "outputs": [],
   "execution_count": null,
   "source": [
    "books[\"tagged_description\"].to_csv(\"tagged_description.txt\",\n",
    "                                   sep=\"\\n\",\n",
    "                                   index=False,\n",
    "                                   header=False)"
   ],
   "id": "a200465cc80e01d1"
  },
  {
   "metadata": {},
   "cell_type": "code",
   "outputs": [],
   "execution_count": null,
   "source": [
    "raw_documents = TextLoader(\"tagged_description.txt\").load()\n",
    "text_splitter = CharacterTextSplitter(chunk_size=0, chunk_overlap=0, separator=\"\\n\")\n",
    "documents = text_splitter.split_documents(raw_documents)"
   ],
   "id": "d89e1026f5cf2605"
  },
  {
   "metadata": {},
   "cell_type": "code",
   "outputs": [],
   "execution_count": null,
   "source": "documents[0]",
   "id": "954e6f758c01a0f5"
  },
  {
   "metadata": {},
   "cell_type": "code",
   "outputs": [],
   "execution_count": null,
   "source": [
    "from langchain.embeddings import HuggingFaceEmbeddings\n",
    "from langchain.vectorstores import Chroma\n",
    "\n",
    "# Load Hugging Face embeddings\n",
    "embeddings = HuggingFaceEmbeddings(model_name=\"sentence-transformers/all-MiniLM-L6-v2\")\n",
    "\n",
    "# Create the Chroma vector store\n",
    "db_books = Chroma.from_documents(documents, embedding=embeddings)\n"
   ],
   "id": "5abd982c43a07e22"
  },
  {
   "metadata": {},
   "cell_type": "code",
   "outputs": [],
   "execution_count": null,
   "source": [
    "query = \"A book to teach children about nature\"\n",
    "docs = db_books.similarity_search_with_score(query, k=10)"
   ],
   "id": "b78147b2b1e82031"
  },
  {
   "metadata": {},
   "cell_type": "code",
   "outputs": [],
   "execution_count": null,
   "source": "docs",
   "id": "6b0c39515a223a22"
  },
  {
   "metadata": {},
   "cell_type": "code",
   "outputs": [],
   "execution_count": null,
   "source": [
    "doc, score = docs[0]\n",
    "\n",
    "books[books[\"isbn13\"] == int(doc.page_content.split()[0].strip())]"
   ],
   "id": "ab2d3fc9a6d4f4c0"
  },
  {
   "metadata": {},
   "cell_type": "code",
   "outputs": [],
   "execution_count": null,
   "source": [
    "def retrieve_semantic_representation(\n",
    "        query: str,\n",
    "        top_k: int = 10\n",
    ") -> pd.DataFrame:\n",
    "    # Search for the top 50 most similar books\n",
    "    recs = db_books.similarity_search(query, k=50)\n",
    "\n",
    "    books_list = []\n",
    "\n",
    "    # Extract the ISBN or identifier from the content\n",
    "    for rec in recs:\n",
    "        try:\n",
    "            # Extract the first part as ISBN\n",
    "            isbn_str = rec.page_content.split()[0].strip()\n",
    "\n",
    "            # Convert to integer (if needed)\n",
    "            isbn = int(isbn_str)\n",
    "\n",
    "            books_list.append(isbn)\n",
    "        except ValueError:\n",
    "            print(f\"Skipping invalid entry: {rec.page_content}\")\n",
    "\n",
    "    # Retrieve matching books from the DataFrame\n",
    "    return books[books[\"isbn13\"].isin(books_list)].head(top_k)\n"
   ],
   "id": "a19363031b22b9f0"
  },
  {
   "metadata": {},
   "cell_type": "code",
   "outputs": [],
   "execution_count": null,
   "source": [
    "query = \"A children's book about nature and wildlife\"\n",
    "top_books = retrieve_semantic_representation(query)\n",
    "\n",
    "print(top_books)\n"
   ],
   "id": "5faf8cd66809ff6e"
  },
  {
   "metadata": {},
   "cell_type": "code",
   "outputs": [],
   "execution_count": null,
   "source": "top_books.head()",
   "id": "df36129149d38f31"
  }
 ],
 "metadata": {
  "kernelspec": {
   "display_name": "Python 3",
   "language": "python",
   "name": "python3"
  },
  "language_info": {
   "codemirror_mode": {
    "name": "ipython",
    "version": 2
   },
   "file_extension": ".py",
   "mimetype": "text/x-python",
   "name": "python",
   "nbconvert_exporter": "python",
   "pygments_lexer": "ipython2",
   "version": "2.7.6"
  }
 },
 "nbformat": 4,
 "nbformat_minor": 5
}
